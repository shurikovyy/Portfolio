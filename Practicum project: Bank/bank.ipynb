{
 "cells": [
  {
   "cell_type": "markdown",
   "id": "e360bdf4",
   "metadata": {},
   "source": [
    "<a class=\"anchor\" id=\"toc\"></a>\n",
    "# Содержание\n",
    "\n",
    "[Описание проекта](#about)\n",
    "\n",
    "1. [Откроем таблицу и изучим общую информацию о данных](#open)\n",
    "\n",
    "\n",
    "2. [Предобработка данных](#preprocessing)    \n",
    "    2.1. [Удаление пропусков](#preprocessing)    \n",
    "    2.2. [Обработка аномальных значений](#processing_anomaly)    \n",
    "    2.3. [Удаление пропусков (продолжение)](#delete_skip)    \n",
    "    2.4. [Изменение типов данных](#processing_type)    \n",
    "    2.5. [Обработка дубликатов](#processing_duplicates)    \n",
    "    2.6. [Категоризация данных](#category)\n",
    "    \n",
    "    \n",
    "3. [Исследуем данные и ответим на вопросы](#study_values)    \n",
    "    3.1. [Есть ли зависимость между количеством детей и возвратом кредита в срок?](#study_values)    \n",
    "    3.2. [Есть ли зависимость между семейным положением и возвратом кредита в срок?](#family_status)    \n",
    "    3.3. [Есть ли зависимость между уровнем дохода и возвратом кредита в срок?](#income_level)    \n",
    "    3.4. [Как разные цели кредита влияют на его возврат в срок?](#target)    \n",
    "    3.5. [Приведите возможные причины появления пропусков в исходных данных.](#why_skip)    \n",
    "    3.6. [Объясните, почему заполнить пропуски медианным значением — лучшее решение для количественных переменных.](#why_median)\n",
    "    \n",
    "\n",
    "4. [Общий вывод](#conclusion)\n",
    "\n",
    "    [Портрет идеального клиента](#portret)"
   ]
  },
  {
   "cell_type": "markdown",
   "id": "59fa47fa",
   "metadata": {},
   "source": [
    "<a class=\"anchor\" id=\"about\"></a>\n",
    "## Описание проекта\n",
    "\n",
    "### Исследование надежности заемщиков"
   ]
  },
  {
   "cell_type": "markdown",
   "id": "8e4e3ffd",
   "metadata": {},
   "source": [
    "\n",
    "Заказчик — кредитный отдел банка. Нужно разобраться, влияет ли семейное положение и количество детей клиента на факт погашения кредита в срок. Входные данные от банка — статистика о платёжеспособности клиентов.\n",
    "\n",
    "Результаты исследования будут учтены при построении модели кредитного скоринга — специальной системы, которая оценивает способность потенциального заёмщика вернуть кредит банку."
   ]
  },
  {
   "cell_type": "markdown",
   "id": "0bf1c6af",
   "metadata": {},
   "source": [
    "<a class=\"anchor\" id=\"open\"></a>\n",
    "### 1. Откроем таблицу и изучим общую информацию о данных"
   ]
  },
  {
   "cell_type": "markdown",
   "id": "a7ba19aa",
   "metadata": {},
   "source": [
    "Импортируем библиотеку pandas. Считаем данные из csv-файла в датафрейм и сохраним в переменную `data`."
   ]
  },
  {
   "cell_type": "code",
   "execution_count": 2,
   "id": "1a48fb1d",
   "metadata": {},
   "outputs": [],
   "source": [
    "import pandas as pd"
   ]
  },
  {
   "cell_type": "code",
   "execution_count": null,
   "id": "dddf26b8",
   "metadata": {},
   "outputs": [],
   "source": [
    "data = pd.read_csv('/datasets/data.csv')"
   ]
  },
  {
   "cell_type": "markdown",
   "id": "2fa7b879",
   "metadata": {},
   "source": [
    "Выведем первые 20 строчек датафрейма `data` на экран."
   ]
  },
  {
   "cell_type": "code",
   "execution_count": 3,
   "id": "a84a052b",
   "metadata": {},
   "outputs": [
    {
     "data": {
      "text/html": [
       "<div>\n",
       "<style scoped>\n",
       "    .dataframe tbody tr th:only-of-type {\n",
       "        vertical-align: middle;\n",
       "    }\n",
       "\n",
       "    .dataframe tbody tr th {\n",
       "        vertical-align: top;\n",
       "    }\n",
       "\n",
       "    .dataframe thead th {\n",
       "        text-align: right;\n",
       "    }\n",
       "</style>\n",
       "<table border=\"1\" class=\"dataframe\">\n",
       "  <thead>\n",
       "    <tr style=\"text-align: right;\">\n",
       "      <th></th>\n",
       "      <th>children</th>\n",
       "      <th>days_employed</th>\n",
       "      <th>dob_years</th>\n",
       "      <th>education</th>\n",
       "      <th>education_id</th>\n",
       "      <th>family_status</th>\n",
       "      <th>family_status_id</th>\n",
       "      <th>gender</th>\n",
       "      <th>income_type</th>\n",
       "      <th>debt</th>\n",
       "      <th>total_income</th>\n",
       "      <th>purpose</th>\n",
       "    </tr>\n",
       "  </thead>\n",
       "  <tbody>\n",
       "    <tr>\n",
       "      <th>0</th>\n",
       "      <td>1</td>\n",
       "      <td>-8437.673028</td>\n",
       "      <td>42</td>\n",
       "      <td>высшее</td>\n",
       "      <td>0</td>\n",
       "      <td>женат / замужем</td>\n",
       "      <td>0</td>\n",
       "      <td>F</td>\n",
       "      <td>сотрудник</td>\n",
       "      <td>0</td>\n",
       "      <td>253875.639453</td>\n",
       "      <td>покупка жилья</td>\n",
       "    </tr>\n",
       "    <tr>\n",
       "      <th>1</th>\n",
       "      <td>1</td>\n",
       "      <td>-4024.803754</td>\n",
       "      <td>36</td>\n",
       "      <td>среднее</td>\n",
       "      <td>1</td>\n",
       "      <td>женат / замужем</td>\n",
       "      <td>0</td>\n",
       "      <td>F</td>\n",
       "      <td>сотрудник</td>\n",
       "      <td>0</td>\n",
       "      <td>112080.014102</td>\n",
       "      <td>приобретение автомобиля</td>\n",
       "    </tr>\n",
       "    <tr>\n",
       "      <th>2</th>\n",
       "      <td>0</td>\n",
       "      <td>-5623.422610</td>\n",
       "      <td>33</td>\n",
       "      <td>Среднее</td>\n",
       "      <td>1</td>\n",
       "      <td>женат / замужем</td>\n",
       "      <td>0</td>\n",
       "      <td>M</td>\n",
       "      <td>сотрудник</td>\n",
       "      <td>0</td>\n",
       "      <td>145885.952297</td>\n",
       "      <td>покупка жилья</td>\n",
       "    </tr>\n",
       "    <tr>\n",
       "      <th>3</th>\n",
       "      <td>3</td>\n",
       "      <td>-4124.747207</td>\n",
       "      <td>32</td>\n",
       "      <td>среднее</td>\n",
       "      <td>1</td>\n",
       "      <td>женат / замужем</td>\n",
       "      <td>0</td>\n",
       "      <td>M</td>\n",
       "      <td>сотрудник</td>\n",
       "      <td>0</td>\n",
       "      <td>267628.550329</td>\n",
       "      <td>дополнительное образование</td>\n",
       "    </tr>\n",
       "    <tr>\n",
       "      <th>4</th>\n",
       "      <td>0</td>\n",
       "      <td>340266.072047</td>\n",
       "      <td>53</td>\n",
       "      <td>среднее</td>\n",
       "      <td>1</td>\n",
       "      <td>гражданский брак</td>\n",
       "      <td>1</td>\n",
       "      <td>F</td>\n",
       "      <td>пенсионер</td>\n",
       "      <td>0</td>\n",
       "      <td>158616.077870</td>\n",
       "      <td>сыграть свадьбу</td>\n",
       "    </tr>\n",
       "    <tr>\n",
       "      <th>5</th>\n",
       "      <td>0</td>\n",
       "      <td>-926.185831</td>\n",
       "      <td>27</td>\n",
       "      <td>высшее</td>\n",
       "      <td>0</td>\n",
       "      <td>гражданский брак</td>\n",
       "      <td>1</td>\n",
       "      <td>M</td>\n",
       "      <td>компаньон</td>\n",
       "      <td>0</td>\n",
       "      <td>255763.565419</td>\n",
       "      <td>покупка жилья</td>\n",
       "    </tr>\n",
       "    <tr>\n",
       "      <th>6</th>\n",
       "      <td>0</td>\n",
       "      <td>-2879.202052</td>\n",
       "      <td>43</td>\n",
       "      <td>высшее</td>\n",
       "      <td>0</td>\n",
       "      <td>женат / замужем</td>\n",
       "      <td>0</td>\n",
       "      <td>F</td>\n",
       "      <td>компаньон</td>\n",
       "      <td>0</td>\n",
       "      <td>240525.971920</td>\n",
       "      <td>операции с жильем</td>\n",
       "    </tr>\n",
       "    <tr>\n",
       "      <th>7</th>\n",
       "      <td>0</td>\n",
       "      <td>-152.779569</td>\n",
       "      <td>50</td>\n",
       "      <td>СРЕДНЕЕ</td>\n",
       "      <td>1</td>\n",
       "      <td>женат / замужем</td>\n",
       "      <td>0</td>\n",
       "      <td>M</td>\n",
       "      <td>сотрудник</td>\n",
       "      <td>0</td>\n",
       "      <td>135823.934197</td>\n",
       "      <td>образование</td>\n",
       "    </tr>\n",
       "    <tr>\n",
       "      <th>8</th>\n",
       "      <td>2</td>\n",
       "      <td>-6929.865299</td>\n",
       "      <td>35</td>\n",
       "      <td>ВЫСШЕЕ</td>\n",
       "      <td>0</td>\n",
       "      <td>гражданский брак</td>\n",
       "      <td>1</td>\n",
       "      <td>F</td>\n",
       "      <td>сотрудник</td>\n",
       "      <td>0</td>\n",
       "      <td>95856.832424</td>\n",
       "      <td>на проведение свадьбы</td>\n",
       "    </tr>\n",
       "    <tr>\n",
       "      <th>9</th>\n",
       "      <td>0</td>\n",
       "      <td>-2188.756445</td>\n",
       "      <td>41</td>\n",
       "      <td>среднее</td>\n",
       "      <td>1</td>\n",
       "      <td>женат / замужем</td>\n",
       "      <td>0</td>\n",
       "      <td>M</td>\n",
       "      <td>сотрудник</td>\n",
       "      <td>0</td>\n",
       "      <td>144425.938277</td>\n",
       "      <td>покупка жилья для семьи</td>\n",
       "    </tr>\n",
       "    <tr>\n",
       "      <th>10</th>\n",
       "      <td>2</td>\n",
       "      <td>-4171.483647</td>\n",
       "      <td>36</td>\n",
       "      <td>высшее</td>\n",
       "      <td>0</td>\n",
       "      <td>женат / замужем</td>\n",
       "      <td>0</td>\n",
       "      <td>M</td>\n",
       "      <td>компаньон</td>\n",
       "      <td>0</td>\n",
       "      <td>113943.491460</td>\n",
       "      <td>покупка недвижимости</td>\n",
       "    </tr>\n",
       "    <tr>\n",
       "      <th>11</th>\n",
       "      <td>0</td>\n",
       "      <td>-792.701887</td>\n",
       "      <td>40</td>\n",
       "      <td>среднее</td>\n",
       "      <td>1</td>\n",
       "      <td>женат / замужем</td>\n",
       "      <td>0</td>\n",
       "      <td>F</td>\n",
       "      <td>сотрудник</td>\n",
       "      <td>0</td>\n",
       "      <td>77069.234271</td>\n",
       "      <td>покупка коммерческой недвижимости</td>\n",
       "    </tr>\n",
       "    <tr>\n",
       "      <th>12</th>\n",
       "      <td>0</td>\n",
       "      <td>NaN</td>\n",
       "      <td>65</td>\n",
       "      <td>среднее</td>\n",
       "      <td>1</td>\n",
       "      <td>гражданский брак</td>\n",
       "      <td>1</td>\n",
       "      <td>M</td>\n",
       "      <td>пенсионер</td>\n",
       "      <td>0</td>\n",
       "      <td>NaN</td>\n",
       "      <td>сыграть свадьбу</td>\n",
       "    </tr>\n",
       "    <tr>\n",
       "      <th>13</th>\n",
       "      <td>0</td>\n",
       "      <td>-1846.641941</td>\n",
       "      <td>54</td>\n",
       "      <td>неоконченное высшее</td>\n",
       "      <td>2</td>\n",
       "      <td>женат / замужем</td>\n",
       "      <td>0</td>\n",
       "      <td>F</td>\n",
       "      <td>сотрудник</td>\n",
       "      <td>0</td>\n",
       "      <td>130458.228857</td>\n",
       "      <td>приобретение автомобиля</td>\n",
       "    </tr>\n",
       "    <tr>\n",
       "      <th>14</th>\n",
       "      <td>0</td>\n",
       "      <td>-1844.956182</td>\n",
       "      <td>56</td>\n",
       "      <td>высшее</td>\n",
       "      <td>0</td>\n",
       "      <td>гражданский брак</td>\n",
       "      <td>1</td>\n",
       "      <td>F</td>\n",
       "      <td>компаньон</td>\n",
       "      <td>1</td>\n",
       "      <td>165127.911772</td>\n",
       "      <td>покупка жилой недвижимости</td>\n",
       "    </tr>\n",
       "    <tr>\n",
       "      <th>15</th>\n",
       "      <td>1</td>\n",
       "      <td>-972.364419</td>\n",
       "      <td>26</td>\n",
       "      <td>среднее</td>\n",
       "      <td>1</td>\n",
       "      <td>женат / замужем</td>\n",
       "      <td>0</td>\n",
       "      <td>F</td>\n",
       "      <td>сотрудник</td>\n",
       "      <td>0</td>\n",
       "      <td>116820.904450</td>\n",
       "      <td>строительство собственной недвижимости</td>\n",
       "    </tr>\n",
       "    <tr>\n",
       "      <th>16</th>\n",
       "      <td>0</td>\n",
       "      <td>-1719.934226</td>\n",
       "      <td>35</td>\n",
       "      <td>среднее</td>\n",
       "      <td>1</td>\n",
       "      <td>женат / замужем</td>\n",
       "      <td>0</td>\n",
       "      <td>F</td>\n",
       "      <td>сотрудник</td>\n",
       "      <td>0</td>\n",
       "      <td>289202.704229</td>\n",
       "      <td>недвижимость</td>\n",
       "    </tr>\n",
       "    <tr>\n",
       "      <th>17</th>\n",
       "      <td>0</td>\n",
       "      <td>-2369.999720</td>\n",
       "      <td>33</td>\n",
       "      <td>высшее</td>\n",
       "      <td>0</td>\n",
       "      <td>гражданский брак</td>\n",
       "      <td>1</td>\n",
       "      <td>M</td>\n",
       "      <td>сотрудник</td>\n",
       "      <td>0</td>\n",
       "      <td>90410.586745</td>\n",
       "      <td>строительство недвижимости</td>\n",
       "    </tr>\n",
       "    <tr>\n",
       "      <th>18</th>\n",
       "      <td>0</td>\n",
       "      <td>400281.136913</td>\n",
       "      <td>53</td>\n",
       "      <td>среднее</td>\n",
       "      <td>1</td>\n",
       "      <td>вдовец / вдова</td>\n",
       "      <td>2</td>\n",
       "      <td>F</td>\n",
       "      <td>пенсионер</td>\n",
       "      <td>0</td>\n",
       "      <td>56823.777243</td>\n",
       "      <td>на покупку подержанного автомобиля</td>\n",
       "    </tr>\n",
       "    <tr>\n",
       "      <th>19</th>\n",
       "      <td>0</td>\n",
       "      <td>-10038.818549</td>\n",
       "      <td>48</td>\n",
       "      <td>СРЕДНЕЕ</td>\n",
       "      <td>1</td>\n",
       "      <td>в разводе</td>\n",
       "      <td>3</td>\n",
       "      <td>F</td>\n",
       "      <td>сотрудник</td>\n",
       "      <td>0</td>\n",
       "      <td>242831.107982</td>\n",
       "      <td>на покупку своего автомобиля</td>\n",
       "    </tr>\n",
       "  </tbody>\n",
       "</table>\n",
       "</div>"
      ],
      "text/plain": [
       "    children  days_employed  dob_years            education  education_id  \\\n",
       "0          1   -8437.673028         42               высшее             0   \n",
       "1          1   -4024.803754         36              среднее             1   \n",
       "2          0   -5623.422610         33              Среднее             1   \n",
       "3          3   -4124.747207         32              среднее             1   \n",
       "4          0  340266.072047         53              среднее             1   \n",
       "5          0    -926.185831         27               высшее             0   \n",
       "6          0   -2879.202052         43               высшее             0   \n",
       "7          0    -152.779569         50              СРЕДНЕЕ             1   \n",
       "8          2   -6929.865299         35               ВЫСШЕЕ             0   \n",
       "9          0   -2188.756445         41              среднее             1   \n",
       "10         2   -4171.483647         36               высшее             0   \n",
       "11         0    -792.701887         40              среднее             1   \n",
       "12         0            NaN         65              среднее             1   \n",
       "13         0   -1846.641941         54  неоконченное высшее             2   \n",
       "14         0   -1844.956182         56               высшее             0   \n",
       "15         1    -972.364419         26              среднее             1   \n",
       "16         0   -1719.934226         35              среднее             1   \n",
       "17         0   -2369.999720         33               высшее             0   \n",
       "18         0  400281.136913         53              среднее             1   \n",
       "19         0  -10038.818549         48              СРЕДНЕЕ             1   \n",
       "\n",
       "       family_status  family_status_id gender income_type  debt  \\\n",
       "0    женат / замужем                 0      F   сотрудник     0   \n",
       "1    женат / замужем                 0      F   сотрудник     0   \n",
       "2    женат / замужем                 0      M   сотрудник     0   \n",
       "3    женат / замужем                 0      M   сотрудник     0   \n",
       "4   гражданский брак                 1      F   пенсионер     0   \n",
       "5   гражданский брак                 1      M   компаньон     0   \n",
       "6    женат / замужем                 0      F   компаньон     0   \n",
       "7    женат / замужем                 0      M   сотрудник     0   \n",
       "8   гражданский брак                 1      F   сотрудник     0   \n",
       "9    женат / замужем                 0      M   сотрудник     0   \n",
       "10   женат / замужем                 0      M   компаньон     0   \n",
       "11   женат / замужем                 0      F   сотрудник     0   \n",
       "12  гражданский брак                 1      M   пенсионер     0   \n",
       "13   женат / замужем                 0      F   сотрудник     0   \n",
       "14  гражданский брак                 1      F   компаньон     1   \n",
       "15   женат / замужем                 0      F   сотрудник     0   \n",
       "16   женат / замужем                 0      F   сотрудник     0   \n",
       "17  гражданский брак                 1      M   сотрудник     0   \n",
       "18    вдовец / вдова                 2      F   пенсионер     0   \n",
       "19         в разводе                 3      F   сотрудник     0   \n",
       "\n",
       "     total_income                                 purpose  \n",
       "0   253875.639453                           покупка жилья  \n",
       "1   112080.014102                 приобретение автомобиля  \n",
       "2   145885.952297                           покупка жилья  \n",
       "3   267628.550329              дополнительное образование  \n",
       "4   158616.077870                         сыграть свадьбу  \n",
       "5   255763.565419                           покупка жилья  \n",
       "6   240525.971920                       операции с жильем  \n",
       "7   135823.934197                             образование  \n",
       "8    95856.832424                   на проведение свадьбы  \n",
       "9   144425.938277                 покупка жилья для семьи  \n",
       "10  113943.491460                    покупка недвижимости  \n",
       "11   77069.234271       покупка коммерческой недвижимости  \n",
       "12            NaN                         сыграть свадьбу  \n",
       "13  130458.228857                 приобретение автомобиля  \n",
       "14  165127.911772              покупка жилой недвижимости  \n",
       "15  116820.904450  строительство собственной недвижимости  \n",
       "16  289202.704229                            недвижимость  \n",
       "17   90410.586745              строительство недвижимости  \n",
       "18   56823.777243      на покупку подержанного автомобиля  \n",
       "19  242831.107982            на покупку своего автомобиля  "
      ]
     },
     "execution_count": 3,
     "metadata": {},
     "output_type": "execute_result"
    }
   ],
   "source": [
    "data.head(20)"
   ]
  },
  {
   "cell_type": "markdown",
   "id": "a0826bad",
   "metadata": {},
   "source": [
    "Выведем основную информацию о датафрейме"
   ]
  },
  {
   "cell_type": "code",
   "execution_count": 4,
   "id": "b738f24e",
   "metadata": {},
   "outputs": [
    {
     "name": "stdout",
     "output_type": "stream",
     "text": [
      "<class 'pandas.core.frame.DataFrame'>\n",
      "RangeIndex: 21525 entries, 0 to 21524\n",
      "Data columns (total 12 columns):\n",
      " #   Column            Non-Null Count  Dtype  \n",
      "---  ------            --------------  -----  \n",
      " 0   children          21525 non-null  int64  \n",
      " 1   days_employed     19351 non-null  float64\n",
      " 2   dob_years         21525 non-null  int64  \n",
      " 3   education         21525 non-null  object \n",
      " 4   education_id      21525 non-null  int64  \n",
      " 5   family_status     21525 non-null  object \n",
      " 6   family_status_id  21525 non-null  int64  \n",
      " 7   gender            21525 non-null  object \n",
      " 8   income_type       21525 non-null  object \n",
      " 9   debt              21525 non-null  int64  \n",
      " 10  total_income      19351 non-null  float64\n",
      " 11  purpose           21525 non-null  object \n",
      "dtypes: float64(2), int64(5), object(5)\n",
      "memory usage: 2.0+ MB\n"
     ]
    }
   ],
   "source": [
    "data.info()"
   ]
  },
  {
   "cell_type": "markdown",
   "id": "a41d52a6",
   "metadata": {},
   "source": [
    "<a class=\"anchor\" id=\"preprocessing\"></a>\n",
    "### 2. Предобработка данных\n",
    "#### 2.1. Удаление пропусков\n",
    "\n",
    "Выведем количество пропущенных значений для каждого столбца."
   ]
  },
  {
   "cell_type": "code",
   "execution_count": 5,
   "id": "f9f7868f",
   "metadata": {},
   "outputs": [
    {
     "data": {
      "text/plain": [
       "children               0\n",
       "days_employed       2174\n",
       "dob_years              0\n",
       "education              0\n",
       "education_id           0\n",
       "family_status          0\n",
       "family_status_id       0\n",
       "gender                 0\n",
       "income_type            0\n",
       "debt                   0\n",
       "total_income        2174\n",
       "purpose                0\n",
       "dtype: int64"
      ]
     },
     "execution_count": 5,
     "metadata": {},
     "output_type": "execute_result"
    }
   ],
   "source": [
    "data.isna().sum()"
   ]
  },
  {
   "cell_type": "markdown",
   "id": "e6672e64",
   "metadata": {},
   "source": [
    "**Небольшое отступление**\n",
    "\n",
    "Мы нашли одинаковое количество пропусков в двух столбцах. Чтобы понять лучше природу этих пропусков определим, принадлежат ли эти пропуски одним и тем же записям. Выведем суммарное количество строк, которые содержат пропущенные значения либо в колонке `total_income`, либо `days_employed`:"
   ]
  },
  {
   "cell_type": "code",
   "execution_count": 6,
   "id": "d051d554",
   "metadata": {},
   "outputs": [
    {
     "data": {
      "text/plain": [
       "2174"
      ]
     },
     "execution_count": 6,
     "metadata": {},
     "output_type": "execute_result"
    }
   ],
   "source": [
    "data.loc[(data['total_income'].isna()) | (data['days_employed'].isna())]['total_income'].isna().count()"
   ]
  },
  {
   "cell_type": "markdown",
   "id": "85e35a0d",
   "metadata": {},
   "source": [
    "Количество пропусков совпадает с найденными ранее значениями по обеим колонкам, соответственно пропуски по двум колонкам принадлежат одним и тем же строкам."
   ]
  },
  {
   "cell_type": "markdown",
   "id": "c376154a",
   "metadata": {},
   "source": [
    "---"
   ]
  },
  {
   "cell_type": "markdown",
   "id": "d13f49cd",
   "metadata": {},
   "source": [
    "В двух столбцах есть пропущенные значения. Один из них — `days_employed`. Пропуски в этом столбце мы обработаем на следующем этапе. Другой столбец с пропущенными значениями — `total_income` — хранит данные о доходах. На сумму дохода сильнее всего влияет тип занятости, поэтому заполнить пропуски в этом столбце нужно медианным значением по каждому типу из столбца `income_type`. Например, у человека с типом занятости `сотрудник` пропуск в столбце `total_income` должен быть заполнен медианным доходом среди всех записей с тем же типом."
   ]
  },
  {
   "cell_type": "code",
   "execution_count": 7,
   "id": "bf1d795d",
   "metadata": {},
   "outputs": [],
   "source": [
    "for t in data['income_type'].unique():\n",
    "    data.loc[(data['income_type'] == t) & (data['total_income'].isna()), 'total_income'] = \\\n",
    "    data.loc[(data['income_type'] == t), 'total_income'].median()"
   ]
  },
  {
   "cell_type": "markdown",
   "id": "7576a7b2",
   "metadata": {},
   "source": [
    "<a class=\"anchor\" id=\"processing_anomaly\"></a>\n",
    "#### 2.2. Обработка аномальных значений\n",
    "\n",
    "В данных могут встречаться артефакты (аномалии) — значения, которые не отражают действительность и появились по какой-то ошибке. Таким артефактом будет отрицательное количество дней трудового стажа в столбце `days_employed`. Для реальных данных это нормально. Обработаем значения в этом столбце: заменим все отрицательные значения положительными."
   ]
  },
  {
   "cell_type": "code",
   "execution_count": 8,
   "id": "af1e87ba",
   "metadata": {},
   "outputs": [],
   "source": [
    "data['days_employed'] = data['days_employed'].abs()"
   ]
  },
  {
   "cell_type": "markdown",
   "id": "17838d56",
   "metadata": {},
   "source": [
    "---"
   ]
  },
  {
   "cell_type": "markdown",
   "id": "c41833b4",
   "metadata": {},
   "source": [
    "Для каждого типа занятости выведем медианное значение трудового стажа `days_employed` в днях."
   ]
  },
  {
   "cell_type": "code",
   "execution_count": 9,
   "id": "1007df93",
   "metadata": {},
   "outputs": [
    {
     "data": {
      "text/plain": [
       "income_type\n",
       "безработный        366413.652744\n",
       "в декрете            3296.759962\n",
       "госслужащий          2689.368353\n",
       "компаньон            1547.382223\n",
       "пенсионер          365213.306266\n",
       "предприниматель       520.848083\n",
       "сотрудник            1574.202821\n",
       "студент               578.751554\n",
       "Name: days_employed, dtype: float64"
      ]
     },
     "execution_count": 9,
     "metadata": {},
     "output_type": "execute_result"
    }
   ],
   "source": [
    "data.groupby('income_type')['days_employed'].agg('median')"
   ]
  },
  {
   "cell_type": "markdown",
   "id": "0a1a2e3b",
   "metadata": {},
   "source": [
    "У двух типов (безработные и пенсионеры) получатся аномально большие значения. Исправим такие значения сложно, поэтому оставим их как есть. Тем более этот столбец не понадобится нам для исследования."
   ]
  },
  {
   "cell_type": "markdown",
   "id": "f885b584",
   "metadata": {},
   "source": [
    "--- "
   ]
  },
  {
   "cell_type": "markdown",
   "id": "acc5e18c",
   "metadata": {},
   "source": [
    "Выведем перечень уникальных значений столбца `children`."
   ]
  },
  {
   "cell_type": "code",
   "execution_count": 10,
   "id": "e249ee94",
   "metadata": {},
   "outputs": [
    {
     "data": {
      "text/plain": [
       "array([ 1,  0,  3,  2, -1,  4, 20,  5], dtype=int64)"
      ]
     },
     "execution_count": 10,
     "metadata": {},
     "output_type": "execute_result"
    }
   ],
   "source": [
    "data['children'].unique()"
   ]
  },
  {
   "cell_type": "markdown",
   "id": "bff2515e",
   "metadata": {},
   "source": [
    "В столбце `children` есть два аномальных значения. Удалим строки, в которых встречаются такие аномальные значения из датафрейма `data`."
   ]
  },
  {
   "cell_type": "code",
   "execution_count": 12,
   "id": "c7ad44d3",
   "metadata": {},
   "outputs": [],
   "source": [
    "data = data[(data['children'] != -1) & (data['children'] != 20)]"
   ]
  },
  {
   "cell_type": "markdown",
   "id": "2b257e02",
   "metadata": {},
   "source": [
    "Ещё раз выведем перечень уникальных значений столбца `children`, чтобы убедиться, что артефакты удалены."
   ]
  },
  {
   "cell_type": "code",
   "execution_count": 13,
   "id": "3dffb717",
   "metadata": {},
   "outputs": [
    {
     "data": {
      "text/plain": [
       "array([1, 0, 3, 2, 4, 5], dtype=int64)"
      ]
     },
     "execution_count": 13,
     "metadata": {},
     "output_type": "execute_result"
    }
   ],
   "source": [
    "data['children'].unique()"
   ]
  },
  {
   "cell_type": "markdown",
   "id": "f8db69df",
   "metadata": {},
   "source": [
    "<a class=\"anchor\" id=\"delete_skip\"></a>\n",
    "#### 2.3. Удаление пропусков (продолжение)\n",
    "\n",
    "Заполним пропуски в столбце `days_employed` медианными значениями по каждого типа занятости `income_type`."
   ]
  },
  {
   "cell_type": "code",
   "execution_count": 14,
   "id": "b5ca81ab",
   "metadata": {},
   "outputs": [],
   "source": [
    "for t in data['income_type'].unique():\n",
    "    data.loc[(data['income_type'] == t) & (data['days_employed'].isna()), 'days_employed'] = \\\n",
    "    data.loc[(data['income_type'] == t), 'days_employed'].median()"
   ]
  },
  {
   "cell_type": "markdown",
   "id": "2d009329",
   "metadata": {},
   "source": [
    "Убедимся, что все пропуски заполнены."
   ]
  },
  {
   "cell_type": "code",
   "execution_count": 15,
   "id": "3c8107d6",
   "metadata": {},
   "outputs": [
    {
     "data": {
      "text/plain": [
       "children            0\n",
       "days_employed       0\n",
       "dob_years           0\n",
       "education           0\n",
       "education_id        0\n",
       "family_status       0\n",
       "family_status_id    0\n",
       "gender              0\n",
       "income_type         0\n",
       "debt                0\n",
       "total_income        0\n",
       "purpose             0\n",
       "dtype: int64"
      ]
     },
     "execution_count": 15,
     "metadata": {},
     "output_type": "execute_result"
    }
   ],
   "source": [
    "data.isna().sum()"
   ]
  },
  {
   "cell_type": "markdown",
   "id": "584204fa",
   "metadata": {},
   "source": [
    "<a class=\"anchor\" id=\"processing_type\"></a>\n",
    "#### 2.4. Изменение типов данных\n",
    "\n",
    "Заменим вещественный тип данных в столбце `total_income` на целочисленный с помощью метода `astype()`."
   ]
  },
  {
   "cell_type": "code",
   "execution_count": 16,
   "id": "f3f0e1d5",
   "metadata": {},
   "outputs": [],
   "source": [
    "data['total_income'] = data['total_income'].astype(int)"
   ]
  },
  {
   "cell_type": "markdown",
   "id": "4c8a8c03",
   "metadata": {},
   "source": [
    "<a class=\"anchor\" id=\"processing_duplicates\"></a>\n",
    "#### 2.5. Обработка дубликатов\n",
    "\n",
    "Обработаем неявные дубликаты в столбце `education`. В этом столбце есть одни и те же значения, но записанные по-разному: с использованием заглавных и строчных букв. Приведем их к нижнему регистру."
   ]
  },
  {
   "cell_type": "code",
   "execution_count": 17,
   "id": "168c90a1",
   "metadata": {},
   "outputs": [],
   "source": [
    "data['education'] = data['education'].str.lower()"
   ]
  },
  {
   "cell_type": "markdown",
   "id": "4fa5a47c",
   "metadata": {},
   "source": [
    "Выведем на экран количество строк-дубликатов в данных. Если такие строки присутствуют, удалим их."
   ]
  },
  {
   "cell_type": "code",
   "execution_count": 18,
   "id": "c327a3ff",
   "metadata": {},
   "outputs": [
    {
     "data": {
      "text/plain": [
       "71"
      ]
     },
     "execution_count": 18,
     "metadata": {},
     "output_type": "execute_result"
    }
   ],
   "source": [
    "data.duplicated().sum()"
   ]
  },
  {
   "cell_type": "code",
   "execution_count": 19,
   "id": "1571c8f7",
   "metadata": {},
   "outputs": [],
   "source": [
    "data = data.drop_duplicates()"
   ]
  },
  {
   "cell_type": "markdown",
   "id": "f4f43513",
   "metadata": {},
   "source": [
    "<a class=\"anchor\" id=\"category\"></a>\n",
    "#### 2.6. Категоризация данных\n",
    "\n",
    "На основании диапазонов, указанных ниже, создадим в датафрейме `data` столбец `total_income_category` с категориями:\n",
    "\n",
    "- 0–30000 — `'E'`;\n",
    "- 30001–50000 — `'D'`;\n",
    "- 50001–200000 — `'C'`;\n",
    "- 200001–1000000 — `'B'`;\n",
    "- 1000001 и выше — `'A'`.\n",
    "\n",
    "\n",
    "Например, кредитополучателю с доходом 25000 нужно назначить категорию `'E'`, а клиенту, получающему 235000 — `'B'`."
   ]
  },
  {
   "cell_type": "code",
   "execution_count": 20,
   "id": "97a77863",
   "metadata": {},
   "outputs": [],
   "source": [
    "def categorize_income(income):\n",
    "    try:\n",
    "        if 0 <= income <= 30000:\n",
    "            return 'E'\n",
    "        elif 30001 <= income <= 50000:\n",
    "            return 'D'\n",
    "        elif 50001 <= income <= 200000:\n",
    "            return 'C'\n",
    "        elif 200001 <= income <= 1000000:\n",
    "            return 'B'\n",
    "        elif income >= 1000001:\n",
    "            return 'A'\n",
    "    except:\n",
    "        pass"
   ]
  },
  {
   "cell_type": "code",
   "execution_count": 21,
   "id": "5c7a6d66",
   "metadata": {},
   "outputs": [],
   "source": [
    "data['total_income_category'] = data['total_income'].apply(categorize_income)"
   ]
  },
  {
   "cell_type": "markdown",
   "id": "0b7bfd59",
   "metadata": {},
   "source": [
    "Выведем на экран перечень уникальных целей взятия кредита из столбца `purpose`."
   ]
  },
  {
   "cell_type": "code",
   "execution_count": 22,
   "id": "abdf8650",
   "metadata": {},
   "outputs": [
    {
     "data": {
      "text/plain": [
       "array(['покупка жилья', 'приобретение автомобиля',\n",
       "       'дополнительное образование', 'сыграть свадьбу',\n",
       "       'операции с жильем', 'образование', 'на проведение свадьбы',\n",
       "       'покупка жилья для семьи', 'покупка недвижимости',\n",
       "       'покупка коммерческой недвижимости', 'покупка жилой недвижимости',\n",
       "       'строительство собственной недвижимости', 'недвижимость',\n",
       "       'строительство недвижимости', 'на покупку подержанного автомобиля',\n",
       "       'на покупку своего автомобиля',\n",
       "       'операции с коммерческой недвижимостью',\n",
       "       'строительство жилой недвижимости', 'жилье',\n",
       "       'операции со своей недвижимостью', 'автомобили',\n",
       "       'заняться образованием', 'сделка с подержанным автомобилем',\n",
       "       'получение образования', 'автомобиль', 'свадьба',\n",
       "       'получение дополнительного образования', 'покупка своего жилья',\n",
       "       'операции с недвижимостью', 'получение высшего образования',\n",
       "       'свой автомобиль', 'сделка с автомобилем',\n",
       "       'профильное образование', 'высшее образование',\n",
       "       'покупка жилья для сдачи', 'на покупку автомобиля', 'ремонт жилью',\n",
       "       'заняться высшим образованием'], dtype=object)"
      ]
     },
     "execution_count": 22,
     "metadata": {},
     "output_type": "execute_result"
    }
   ],
   "source": [
    "data['purpose'].unique()"
   ]
  },
  {
   "cell_type": "markdown",
   "id": "7419a818",
   "metadata": {},
   "source": [
    "Создадим функцию, которая на основании данных из столбца `purpose` сформирует новый столбец `purpose_category`, в который войдут следующие категории:**\n",
    "\n",
    "- `'операции с автомобилем'`,\n",
    "- `'операции с недвижимостью'`,\n",
    "- `'проведение свадьбы'`,\n",
    "- `'получение образования'`.\n",
    "\n",
    "Например, если в столбце `purpose` находится подстрока `'на покупку автомобиля'`, то в столбце `purpose_category` должна появиться строка `'операции с автомобилем'`."
   ]
  },
  {
   "cell_type": "code",
   "execution_count": 23,
   "id": "80eb84b9",
   "metadata": {},
   "outputs": [],
   "source": [
    "def categorize_purpose(row):\n",
    "    try:\n",
    "        if 'автом' in row:\n",
    "            return 'операции с автомобилем'\n",
    "        elif 'жил' in row or 'недвиж' in row:\n",
    "            return 'операции с недвижимостью'\n",
    "        elif 'свад' in row:\n",
    "            return 'проведение свадьбы'\n",
    "        elif 'образов' in row:\n",
    "            return 'получение образования'\n",
    "    except:\n",
    "        return 'нет категории'"
   ]
  },
  {
   "cell_type": "code",
   "execution_count": 24,
   "id": "f61fdbcf",
   "metadata": {},
   "outputs": [],
   "source": [
    "data['purpose_category'] = data['purpose'].apply(categorize_purpose)"
   ]
  },
  {
   "cell_type": "markdown",
   "id": "2fd96b8c",
   "metadata": {},
   "source": [
    "<a class=\"anchor\" id=\"study_values\"></a>\n",
    "### 3. Исследуем данные и ответим на вопросы\n",
    "#### 3.1. Есть ли зависимость между количеством детей и возвратом кредита в срок?"
   ]
  },
  {
   "cell_type": "markdown",
   "id": "2f845722",
   "metadata": {},
   "source": [
    "Сформируем сводную таблицу с количеством клиентов, должников и долей должников."
   ]
  },
  {
   "cell_type": "code",
   "execution_count": 25,
   "id": "0586e368",
   "metadata": {},
   "outputs": [
    {
     "data": {
      "text/html": [
       "<div>\n",
       "<style scoped>\n",
       "    .dataframe tbody tr th:only-of-type {\n",
       "        vertical-align: middle;\n",
       "    }\n",
       "\n",
       "    .dataframe tbody tr th {\n",
       "        vertical-align: top;\n",
       "    }\n",
       "\n",
       "    .dataframe thead tr th {\n",
       "        text-align: left;\n",
       "    }\n",
       "\n",
       "    .dataframe thead tr:last-of-type th {\n",
       "        text-align: right;\n",
       "    }\n",
       "</style>\n",
       "<table border=\"1\" class=\"dataframe\">\n",
       "  <thead>\n",
       "    <tr>\n",
       "      <th></th>\n",
       "      <th colspan=\"2\" halign=\"left\">debt</th>\n",
       "      <th>total_income</th>\n",
       "    </tr>\n",
       "    <tr>\n",
       "      <th></th>\n",
       "      <th>ratio</th>\n",
       "      <th>debtors</th>\n",
       "      <th>client</th>\n",
       "    </tr>\n",
       "    <tr>\n",
       "      <th>children</th>\n",
       "      <th></th>\n",
       "      <th></th>\n",
       "      <th></th>\n",
       "    </tr>\n",
       "  </thead>\n",
       "  <tbody>\n",
       "    <tr>\n",
       "      <th>0</th>\n",
       "      <td>0.075</td>\n",
       "      <td>1063</td>\n",
       "      <td>14091</td>\n",
       "    </tr>\n",
       "    <tr>\n",
       "      <th>1</th>\n",
       "      <td>0.092</td>\n",
       "      <td>444</td>\n",
       "      <td>4808</td>\n",
       "    </tr>\n",
       "    <tr>\n",
       "      <th>2</th>\n",
       "      <td>0.095</td>\n",
       "      <td>194</td>\n",
       "      <td>2052</td>\n",
       "    </tr>\n",
       "    <tr>\n",
       "      <th>3</th>\n",
       "      <td>0.082</td>\n",
       "      <td>27</td>\n",
       "      <td>330</td>\n",
       "    </tr>\n",
       "    <tr>\n",
       "      <th>4</th>\n",
       "      <td>0.098</td>\n",
       "      <td>4</td>\n",
       "      <td>41</td>\n",
       "    </tr>\n",
       "    <tr>\n",
       "      <th>5</th>\n",
       "      <td>0.000</td>\n",
       "      <td>0</td>\n",
       "      <td>9</td>\n",
       "    </tr>\n",
       "  </tbody>\n",
       "</table>\n",
       "</div>"
      ],
      "text/plain": [
       "           debt         total_income\n",
       "          ratio debtors       client\n",
       "children                            \n",
       "0         0.075    1063        14091\n",
       "1         0.092     444         4808\n",
       "2         0.095     194         2052\n",
       "3         0.082      27          330\n",
       "4         0.098       4           41\n",
       "5         0.000       0            9"
      ]
     },
     "execution_count": 25,
     "metadata": {},
     "output_type": "execute_result"
    }
   ],
   "source": [
    "(\n",
    "    data\n",
    "    .pivot_table(index='children', values=['total_income', 'debt'], \n",
    "                 aggfunc={'total_income': 'count',\n",
    "                     'debt': [sum, 'mean']},  \n",
    "                 fill_value=0)\n",
    "    .round(3)\n",
    "    .rename(columns={'count' : 'client', 'sum' : 'debtors', 'mean' : 'ratio'})\n",
    ")"
   ]
  },
  {
   "cell_type": "markdown",
   "id": "7611f747",
   "metadata": {},
   "source": [
    "На первый взгляд зависимость не очевидна, но проанализируем количественно наши выборки: определим сколько людей в каждой группе и какую часть они составляют от общего количества заемщиков:\n",
    " - в колонке `count` - количество клиентов;\n",
    " - в колонке `sum` - количество должников;\n",
    " - в колонке `mean` - доля должников."
   ]
  },
  {
   "cell_type": "code",
   "execution_count": 26,
   "id": "dd55ead7",
   "metadata": {},
   "outputs": [
    {
     "data": {
      "text/html": [
       "<div>\n",
       "<style scoped>\n",
       "    .dataframe tbody tr th:only-of-type {\n",
       "        vertical-align: middle;\n",
       "    }\n",
       "\n",
       "    .dataframe tbody tr th {\n",
       "        vertical-align: top;\n",
       "    }\n",
       "\n",
       "    .dataframe thead th {\n",
       "        text-align: right;\n",
       "    }\n",
       "</style>\n",
       "<table border=\"1\" class=\"dataframe\">\n",
       "  <thead>\n",
       "    <tr style=\"text-align: right;\">\n",
       "      <th></th>\n",
       "      <th>total_income</th>\n",
       "      <th>share</th>\n",
       "    </tr>\n",
       "    <tr>\n",
       "      <th>children</th>\n",
       "      <th></th>\n",
       "      <th></th>\n",
       "    </tr>\n",
       "  </thead>\n",
       "  <tbody>\n",
       "    <tr>\n",
       "      <th>0</th>\n",
       "      <td>14091</td>\n",
       "      <td>66.06</td>\n",
       "    </tr>\n",
       "    <tr>\n",
       "      <th>1</th>\n",
       "      <td>4808</td>\n",
       "      <td>22.54</td>\n",
       "    </tr>\n",
       "    <tr>\n",
       "      <th>2</th>\n",
       "      <td>2052</td>\n",
       "      <td>9.62</td>\n",
       "    </tr>\n",
       "    <tr>\n",
       "      <th>3</th>\n",
       "      <td>330</td>\n",
       "      <td>1.55</td>\n",
       "    </tr>\n",
       "    <tr>\n",
       "      <th>4</th>\n",
       "      <td>41</td>\n",
       "      <td>0.19</td>\n",
       "    </tr>\n",
       "    <tr>\n",
       "      <th>5</th>\n",
       "      <td>9</td>\n",
       "      <td>0.04</td>\n",
       "    </tr>\n",
       "  </tbody>\n",
       "</table>\n",
       "</div>"
      ],
      "text/plain": [
       "          total_income  share\n",
       "children                     \n",
       "0                14091  66.06\n",
       "1                 4808  22.54\n",
       "2                 2052   9.62\n",
       "3                  330   1.55\n",
       "4                   41   0.19\n",
       "5                    9   0.04"
      ]
     },
     "execution_count": 26,
     "metadata": {},
     "output_type": "execute_result"
    }
   ],
   "source": [
    "# посчитаем общее количество заемщиков:\n",
    "all_people = data['total_income'].count()\n",
    "\n",
    "# найдем количество заемщиков в каждой группе:\n",
    "share_of_all = data.groupby('children').agg({'total_income' : 'count'})\n",
    "\n",
    "# посчитаем долю заемщиков каждой группы от всех заемщиков:\n",
    "share_of_all.assign(share = (share_of_all['total_income'] / all_people) * 100).round(2)"
   ]
  },
  {
   "cell_type": "markdown",
   "id": "86f79379",
   "metadata": {},
   "source": [
    "Мы видим, что группы, имеющие 3, 4 и 5 детей, в сумме составляют менее 2% от общего количества исследуемых (380 человек), что недостаточно для формирования каких-либо точных выводов по ним и сравнения их с первыми тремя группами. Данные выборки не репрезентативны и не могут достаточно точно отразить характер генеральной совокупности своих групп. Поэтому для анализа будем опираться на первые 3 группы: \n",
    "1. Заемщики без детей;\n",
    "2. Заемщики с 1 ребенком;\n",
    "3. Заемщики с 2 детьми."
   ]
  },
  {
   "cell_type": "markdown",
   "id": "668ff501",
   "metadata": {},
   "source": [
    "---\n",
    "**Вывод:** Существует прямая зависимость между количеством детей и возвратом кредита в срок: с увеличением количества детей возвращаемость кредита в срок снижается. Можно сделать вывод, что многодетным семьям труднее выплачивать кредит (возвращаемость займа в срок 90,8% с одним ребенком в семье и 90,5% с двумя соотетственно), нежели бездетным (92,5%).\n",
    "\n",
    "___"
   ]
  },
  {
   "cell_type": "markdown",
   "id": "4d780811",
   "metadata": {},
   "source": [
    "<a class=\"anchor\" id=\"family_status\"></a>\n",
    "#### 3.2. Есть ли зависимость между семейным положением и возвратом кредита в срок?"
   ]
  },
  {
   "cell_type": "markdown",
   "id": "a6767bee",
   "metadata": {},
   "source": [
    "Отобразим в сводной число заемщиков, разделенных на разные группы по семейному положению и число должников. Также укажем долю должников от общего числа заемщиков:"
   ]
  },
  {
   "cell_type": "code",
   "execution_count": 27,
   "id": "6641bb79",
   "metadata": {},
   "outputs": [
    {
     "data": {
      "text/html": [
       "<div>\n",
       "<style scoped>\n",
       "    .dataframe tbody tr th:only-of-type {\n",
       "        vertical-align: middle;\n",
       "    }\n",
       "\n",
       "    .dataframe tbody tr th {\n",
       "        vertical-align: top;\n",
       "    }\n",
       "\n",
       "    .dataframe thead tr th {\n",
       "        text-align: left;\n",
       "    }\n",
       "\n",
       "    .dataframe thead tr:last-of-type th {\n",
       "        text-align: right;\n",
       "    }\n",
       "</style>\n",
       "<table border=\"1\" class=\"dataframe\">\n",
       "  <thead>\n",
       "    <tr>\n",
       "      <th></th>\n",
       "      <th colspan=\"2\" halign=\"left\">debt</th>\n",
       "      <th>total_income</th>\n",
       "    </tr>\n",
       "    <tr>\n",
       "      <th></th>\n",
       "      <th>ratio</th>\n",
       "      <th>debtors</th>\n",
       "      <th>client</th>\n",
       "    </tr>\n",
       "    <tr>\n",
       "      <th>family_status</th>\n",
       "      <th></th>\n",
       "      <th></th>\n",
       "      <th></th>\n",
       "    </tr>\n",
       "  </thead>\n",
       "  <tbody>\n",
       "    <tr>\n",
       "      <th>Не женат / не замужем</th>\n",
       "      <td>0.098</td>\n",
       "      <td>273</td>\n",
       "      <td>2796</td>\n",
       "    </tr>\n",
       "    <tr>\n",
       "      <th>в разводе</th>\n",
       "      <td>0.071</td>\n",
       "      <td>84</td>\n",
       "      <td>1189</td>\n",
       "    </tr>\n",
       "    <tr>\n",
       "      <th>вдовец / вдова</th>\n",
       "      <td>0.066</td>\n",
       "      <td>63</td>\n",
       "      <td>951</td>\n",
       "    </tr>\n",
       "    <tr>\n",
       "      <th>гражданский брак</th>\n",
       "      <td>0.093</td>\n",
       "      <td>385</td>\n",
       "      <td>4134</td>\n",
       "    </tr>\n",
       "    <tr>\n",
       "      <th>женат / замужем</th>\n",
       "      <td>0.076</td>\n",
       "      <td>927</td>\n",
       "      <td>12261</td>\n",
       "    </tr>\n",
       "  </tbody>\n",
       "</table>\n",
       "</div>"
      ],
      "text/plain": [
       "                        debt         total_income\n",
       "                       ratio debtors       client\n",
       "family_status                                    \n",
       "Не женат / не замужем  0.098     273         2796\n",
       "в разводе              0.071      84         1189\n",
       "вдовец / вдова         0.066      63          951\n",
       "гражданский брак       0.093     385         4134\n",
       "женат / замужем        0.076     927        12261"
      ]
     },
     "execution_count": 27,
     "metadata": {},
     "output_type": "execute_result"
    }
   ],
   "source": [
    "(\n",
    "    data\n",
    "    .pivot_table(index='family_status', values=['total_income', 'debt'], \n",
    "                 aggfunc={'total_income': 'count',\n",
    "                     'debt': [sum, 'mean']},  \n",
    "                 fill_value=0)\n",
    "    .round(3)\n",
    "    .rename(columns={'count' : 'client', 'sum' : 'debtors', 'mean' : 'ratio'})\n",
    ")"
   ]
  },
  {
   "cell_type": "markdown",
   "id": "c5606ec7",
   "metadata": {},
   "source": [
    "Оценим размер выборок получившихся групп:"
   ]
  },
  {
   "cell_type": "code",
   "execution_count": 28,
   "id": "75c47830",
   "metadata": {},
   "outputs": [
    {
     "data": {
      "text/html": [
       "<div>\n",
       "<style scoped>\n",
       "    .dataframe tbody tr th:only-of-type {\n",
       "        vertical-align: middle;\n",
       "    }\n",
       "\n",
       "    .dataframe tbody tr th {\n",
       "        vertical-align: top;\n",
       "    }\n",
       "\n",
       "    .dataframe thead th {\n",
       "        text-align: right;\n",
       "    }\n",
       "</style>\n",
       "<table border=\"1\" class=\"dataframe\">\n",
       "  <thead>\n",
       "    <tr style=\"text-align: right;\">\n",
       "      <th></th>\n",
       "      <th>total_income</th>\n",
       "      <th>share</th>\n",
       "    </tr>\n",
       "    <tr>\n",
       "      <th>family_status</th>\n",
       "      <th></th>\n",
       "      <th></th>\n",
       "    </tr>\n",
       "  </thead>\n",
       "  <tbody>\n",
       "    <tr>\n",
       "      <th>Не женат / не замужем</th>\n",
       "      <td>2796</td>\n",
       "      <td>13.11</td>\n",
       "    </tr>\n",
       "    <tr>\n",
       "      <th>в разводе</th>\n",
       "      <td>1189</td>\n",
       "      <td>5.57</td>\n",
       "    </tr>\n",
       "    <tr>\n",
       "      <th>вдовец / вдова</th>\n",
       "      <td>951</td>\n",
       "      <td>4.46</td>\n",
       "    </tr>\n",
       "    <tr>\n",
       "      <th>гражданский брак</th>\n",
       "      <td>4134</td>\n",
       "      <td>19.38</td>\n",
       "    </tr>\n",
       "    <tr>\n",
       "      <th>женат / замужем</th>\n",
       "      <td>12261</td>\n",
       "      <td>57.48</td>\n",
       "    </tr>\n",
       "  </tbody>\n",
       "</table>\n",
       "</div>"
      ],
      "text/plain": [
       "                       total_income  share\n",
       "family_status                             \n",
       "Не женат / не замужем          2796  13.11\n",
       "в разводе                      1189   5.57\n",
       "вдовец / вдова                  951   4.46\n",
       "гражданский брак               4134  19.38\n",
       "женат / замужем               12261  57.48"
      ]
     },
     "execution_count": 28,
     "metadata": {},
     "output_type": "execute_result"
    }
   ],
   "source": [
    "# найдем количество заемщиков в каждой группе:\n",
    "share_of_all = data.groupby('family_status').agg({'total_income' : 'count'})\n",
    "\n",
    "# посчитаем долю заемщиков каждой группы от всех заемщиков:\n",
    "share_of_all.assign(share = (share_of_all['total_income'] / all_people) * 100).round(2)"
   ]
  },
  {
   "cell_type": "markdown",
   "id": "ea7d6516",
   "metadata": {},
   "source": [
    "Самая маленькая выборка состоит из 951 человека, что составляет 4.5% от генеральной совокупности. Данные выборки можно считать репрезентативной."
   ]
  },
  {
   "cell_type": "markdown",
   "id": "725381ad",
   "metadata": {},
   "source": [
    "Разобьем клиентов по возрастным категориям:\n",
    "- до 18 лет - дети;\n",
    "- с 18 до 44 - молодые;\n",
    "- с 44 до 60 - средний возраст;\n",
    "- после 60 - престарелые."
   ]
  },
  {
   "cell_type": "code",
   "execution_count": 29,
   "id": "4036d2f7",
   "metadata": {},
   "outputs": [],
   "source": [
    "def categorize_dob_years(years):\n",
    "    try:\n",
    "        if 0 <= years <= 17:\n",
    "            return 'child'\n",
    "        elif 18 <= years <= 44:\n",
    "            return 'young'\n",
    "        elif 45 <= years <= 60:\n",
    "            return 'avg'\n",
    "        elif years >= 61:\n",
    "            return 'old'\n",
    "    except:\n",
    "        pass"
   ]
  },
  {
   "cell_type": "markdown",
   "id": "7a93fa8a",
   "metadata": {},
   "source": [
    "Добавим столбец `dob_years_category` с возрастными категориями клиентов:"
   ]
  },
  {
   "cell_type": "code",
   "execution_count": 30,
   "id": "6c6984f2",
   "metadata": {},
   "outputs": [],
   "source": [
    "data['dob_years_category'] = data['dob_years'].apply(categorize_dob_years)"
   ]
  },
  {
   "cell_type": "markdown",
   "id": "51586bc5",
   "metadata": {},
   "source": [
    "Выведем количество вдовцов/вдов по возрастным категориям:"
   ]
  },
  {
   "cell_type": "code",
   "execution_count": 31,
   "id": "983b7892",
   "metadata": {},
   "outputs": [
    {
     "data": {
      "text/plain": [
       "dob_years_category\n",
       "avg      500\n",
       "child      5\n",
       "old      348\n",
       "young     98\n",
       "Name: dob_years_category, dtype: int64"
      ]
     },
     "execution_count": 31,
     "metadata": {},
     "output_type": "execute_result"
    }
   ],
   "source": [
    "(\n",
    "    data\n",
    "    .loc[data['family_status'] == 'вдовец / вдова']\n",
    "    .groupby(data['dob_years_category'])['dob_years_category']\n",
    "    .count()\n",
    ")"
   ]
  },
  {
   "cell_type": "markdown",
   "id": "6a367601",
   "metadata": {},
   "source": [
    "---\n",
    "<a class=\"anchor\" id=\"short_conclusion\"></a>\n",
    "**Промежуточный вывод:** \n",
    "- Самыми ответственными заемщиками оказалить вдовцы/вдовы. \n",
    "- Больше всех задерживают патежи не женатые/не замужние. \n",
    "\n",
    "Также из получившихся результатов можно сделать вывод, что люди, имеющие штамп в паспорте (вдовцы/вдовы, люди в разводе либо женатые/замужние), более ответствено относятся к выплате кредита, нежели более свободные заемщики (не женатые/не замужние или состоящие в гражданском браке). \n",
    "\n",
    "Тот факт, что люди, которые состоят в официальном браке, лучше выплачивают кредит можно объяснить тем, что работающей семейной паре проще погасить долги из семейного бюджета, который в основном складывается из двух зарплат.\n",
    "\n",
    "Объяснить высокую выплачиваемость у вдовцов/вдов можно следующим предположением: подавляющее большинство вдовцов/вдов (89%) старше 45 лет. Людям такого возраста (особенно престарелым, которые составляют 37%) одобряют займы на меньшие сроки и при наличии финансовых возможностей для погашения кредита. Следовательно, данным заемщикам могут не одобрить крупную сумму займа и их ежемесячный платеж будет составлять посильную сумму для выплат. \n",
    "___"
   ]
  },
  {
   "cell_type": "markdown",
   "id": "7496921c",
   "metadata": {},
   "source": [
    "<a class=\"anchor\" id=\"income_level\"></a>\n",
    "#### 3.3. Есть ли зависимость между уровнем дохода и возвратом кредита в срок?"
   ]
  },
  {
   "cell_type": "markdown",
   "id": "2167258a",
   "metadata": {},
   "source": [
    "Создадим 4 колонки:\n",
    "1. Категории дохода заемщиков;\n",
    "2. Доля тех, кто имел просрочку, от общего числа заемщиков данной группы;\n",
    "3. Количество заемщиков, которые имели просрочку по кредиту;\n",
    "4. Общее число заемщиков."
   ]
  },
  {
   "cell_type": "code",
   "execution_count": 32,
   "id": "9ec6e113",
   "metadata": {},
   "outputs": [
    {
     "data": {
      "text/html": [
       "<div>\n",
       "<style scoped>\n",
       "    .dataframe tbody tr th:only-of-type {\n",
       "        vertical-align: middle;\n",
       "    }\n",
       "\n",
       "    .dataframe tbody tr th {\n",
       "        vertical-align: top;\n",
       "    }\n",
       "\n",
       "    .dataframe thead tr th {\n",
       "        text-align: left;\n",
       "    }\n",
       "\n",
       "    .dataframe thead tr:last-of-type th {\n",
       "        text-align: right;\n",
       "    }\n",
       "</style>\n",
       "<table border=\"1\" class=\"dataframe\">\n",
       "  <thead>\n",
       "    <tr>\n",
       "      <th></th>\n",
       "      <th colspan=\"2\" halign=\"left\">debt</th>\n",
       "      <th>total_income</th>\n",
       "    </tr>\n",
       "    <tr>\n",
       "      <th></th>\n",
       "      <th>ratio</th>\n",
       "      <th>debtors</th>\n",
       "      <th>client</th>\n",
       "    </tr>\n",
       "    <tr>\n",
       "      <th>total_income_category</th>\n",
       "      <th></th>\n",
       "      <th></th>\n",
       "      <th></th>\n",
       "    </tr>\n",
       "  </thead>\n",
       "  <tbody>\n",
       "    <tr>\n",
       "      <th>A</th>\n",
       "      <td>0.080</td>\n",
       "      <td>2</td>\n",
       "      <td>25</td>\n",
       "    </tr>\n",
       "    <tr>\n",
       "      <th>B</th>\n",
       "      <td>0.071</td>\n",
       "      <td>354</td>\n",
       "      <td>5014</td>\n",
       "    </tr>\n",
       "    <tr>\n",
       "      <th>C</th>\n",
       "      <td>0.085</td>\n",
       "      <td>1353</td>\n",
       "      <td>15921</td>\n",
       "    </tr>\n",
       "    <tr>\n",
       "      <th>D</th>\n",
       "      <td>0.060</td>\n",
       "      <td>21</td>\n",
       "      <td>349</td>\n",
       "    </tr>\n",
       "    <tr>\n",
       "      <th>E</th>\n",
       "      <td>0.091</td>\n",
       "      <td>2</td>\n",
       "      <td>22</td>\n",
       "    </tr>\n",
       "  </tbody>\n",
       "</table>\n",
       "</div>"
      ],
      "text/plain": [
       "                        debt         total_income\n",
       "                       ratio debtors       client\n",
       "total_income_category                            \n",
       "A                      0.080       2           25\n",
       "B                      0.071     354         5014\n",
       "C                      0.085    1353        15921\n",
       "D                      0.060      21          349\n",
       "E                      0.091       2           22"
      ]
     },
     "execution_count": 32,
     "metadata": {},
     "output_type": "execute_result"
    }
   ],
   "source": [
    "(\n",
    "    data\n",
    "    .pivot_table(index='total_income_category', values=['total_income', 'debt'], \n",
    "                 aggfunc={'total_income': 'count',\n",
    "                     'debt': [sum, 'mean']},  \n",
    "                 fill_value=0)\n",
    "    .round(3)\n",
    "    .rename(columns={'count' : 'client', 'sum' : 'debtors', 'mean' : 'ratio'})\n",
    ")"
   ]
  },
  {
   "cell_type": "markdown",
   "id": "ff5a3448",
   "metadata": {},
   "source": [
    "Определим величины выборок, чтобы понять, можно ли \"в лоб\" сравнивать полученные доли:"
   ]
  },
  {
   "cell_type": "code",
   "execution_count": 33,
   "id": "4f9d333c",
   "metadata": {},
   "outputs": [
    {
     "data": {
      "text/html": [
       "<div>\n",
       "<style scoped>\n",
       "    .dataframe tbody tr th:only-of-type {\n",
       "        vertical-align: middle;\n",
       "    }\n",
       "\n",
       "    .dataframe tbody tr th {\n",
       "        vertical-align: top;\n",
       "    }\n",
       "\n",
       "    .dataframe thead th {\n",
       "        text-align: right;\n",
       "    }\n",
       "</style>\n",
       "<table border=\"1\" class=\"dataframe\">\n",
       "  <thead>\n",
       "    <tr style=\"text-align: right;\">\n",
       "      <th></th>\n",
       "      <th>total_income</th>\n",
       "      <th>share</th>\n",
       "    </tr>\n",
       "    <tr>\n",
       "      <th>total_income_category</th>\n",
       "      <th></th>\n",
       "      <th></th>\n",
       "    </tr>\n",
       "  </thead>\n",
       "  <tbody>\n",
       "    <tr>\n",
       "      <th>A</th>\n",
       "      <td>25</td>\n",
       "      <td>0.12</td>\n",
       "    </tr>\n",
       "    <tr>\n",
       "      <th>B</th>\n",
       "      <td>5014</td>\n",
       "      <td>23.51</td>\n",
       "    </tr>\n",
       "    <tr>\n",
       "      <th>C</th>\n",
       "      <td>15921</td>\n",
       "      <td>74.64</td>\n",
       "    </tr>\n",
       "    <tr>\n",
       "      <th>D</th>\n",
       "      <td>349</td>\n",
       "      <td>1.64</td>\n",
       "    </tr>\n",
       "    <tr>\n",
       "      <th>E</th>\n",
       "      <td>22</td>\n",
       "      <td>0.10</td>\n",
       "    </tr>\n",
       "  </tbody>\n",
       "</table>\n",
       "</div>"
      ],
      "text/plain": [
       "                       total_income  share\n",
       "total_income_category                     \n",
       "A                                25   0.12\n",
       "B                              5014  23.51\n",
       "C                             15921  74.64\n",
       "D                               349   1.64\n",
       "E                                22   0.10"
      ]
     },
     "execution_count": 33,
     "metadata": {},
     "output_type": "execute_result"
    }
   ],
   "source": [
    "# найдем количество заемщиков в каждой группе:\n",
    "share_of_all = data.groupby('total_income_category').agg({'total_income' : 'count'})\n",
    "\n",
    "# посчитаем долю заемщиков каждой группы от всех заемщиков:\n",
    "share_of_all.assign(share = (share_of_all['total_income'] / all_people) * 100).round(2)"
   ]
  },
  {
   "cell_type": "markdown",
   "id": "76267ffd",
   "metadata": {},
   "source": [
    "Выборка категорий A, D и E составляют менее 2% (396 человек) от всей генеральной совокупности, что недостаточно для сравнения их с другими групами. При анализе будем опираться на показатели категорий B и C."
   ]
  },
  {
   "cell_type": "markdown",
   "id": "9fe6cbc9",
   "metadata": {},
   "source": [
    "---\n",
    "**Вывод:** Существует прямая зависимость между уровнем дохода и возвратом кредитов в срок: чем выше доход - тем выше возвратность. Напомним, что к категори 'C' относятся доходы 50001–200000р, а к категории 'B' — 200001–1000000р. Таким образом в категорию 'С' попали клиенты, с довольно низким заработком, что сказывается на возвращаемости долгов.\n",
    "___"
   ]
  },
  {
   "cell_type": "markdown",
   "id": "6e96e8df",
   "metadata": {},
   "source": [
    "<a class=\"anchor\" id=\"target\"></a>\n",
    "#### 3.4. Как разные цели кредита влияют на его возврат в срок?"
   ]
  },
  {
   "cell_type": "markdown",
   "id": "59c0ea86",
   "metadata": {},
   "source": [
    "Сгруппируем всех заемщиков по целям, на которые был взят кредит:\n",
    "- операции с автомобилем;\n",
    "- операции с недвижимостью;\n",
    "- получение образования;\n",
    "- проведение свадьбы,\n",
    "\n",
    "добавим число из них с задолжностями по кредиту и вычислим какой процент должников есть в каждой группе: "
   ]
  },
  {
   "cell_type": "code",
   "execution_count": 34,
   "id": "7c0d1023",
   "metadata": {},
   "outputs": [
    {
     "data": {
      "text/html": [
       "<div>\n",
       "<style scoped>\n",
       "    .dataframe tbody tr th:only-of-type {\n",
       "        vertical-align: middle;\n",
       "    }\n",
       "\n",
       "    .dataframe tbody tr th {\n",
       "        vertical-align: top;\n",
       "    }\n",
       "\n",
       "    .dataframe thead tr th {\n",
       "        text-align: left;\n",
       "    }\n",
       "\n",
       "    .dataframe thead tr:last-of-type th {\n",
       "        text-align: right;\n",
       "    }\n",
       "</style>\n",
       "<table border=\"1\" class=\"dataframe\">\n",
       "  <thead>\n",
       "    <tr>\n",
       "      <th></th>\n",
       "      <th colspan=\"2\" halign=\"left\">debt</th>\n",
       "      <th>total_income</th>\n",
       "    </tr>\n",
       "    <tr>\n",
       "      <th></th>\n",
       "      <th>ratio</th>\n",
       "      <th>debtors</th>\n",
       "      <th>client</th>\n",
       "    </tr>\n",
       "    <tr>\n",
       "      <th>purpose_category</th>\n",
       "      <th></th>\n",
       "      <th></th>\n",
       "      <th></th>\n",
       "    </tr>\n",
       "  </thead>\n",
       "  <tbody>\n",
       "    <tr>\n",
       "      <th>операции с автомобилем</th>\n",
       "      <td>0.093</td>\n",
       "      <td>400</td>\n",
       "      <td>4279</td>\n",
       "    </tr>\n",
       "    <tr>\n",
       "      <th>операции с недвижимостью</th>\n",
       "      <td>0.073</td>\n",
       "      <td>780</td>\n",
       "      <td>10751</td>\n",
       "    </tr>\n",
       "    <tr>\n",
       "      <th>получение образования</th>\n",
       "      <td>0.093</td>\n",
       "      <td>369</td>\n",
       "      <td>3988</td>\n",
       "    </tr>\n",
       "    <tr>\n",
       "      <th>проведение свадьбы</th>\n",
       "      <td>0.079</td>\n",
       "      <td>183</td>\n",
       "      <td>2313</td>\n",
       "    </tr>\n",
       "  </tbody>\n",
       "</table>\n",
       "</div>"
      ],
      "text/plain": [
       "                           debt         total_income\n",
       "                          ratio debtors       client\n",
       "purpose_category                                    \n",
       "операции с автомобилем    0.093     400         4279\n",
       "операции с недвижимостью  0.073     780        10751\n",
       "получение образования     0.093     369         3988\n",
       "проведение свадьбы        0.079     183         2313"
      ]
     },
     "execution_count": 34,
     "metadata": {},
     "output_type": "execute_result"
    }
   ],
   "source": [
    "(\n",
    "    data\n",
    "    .pivot_table(index='purpose_category', values=['total_income', 'debt'], \n",
    "                 aggfunc={'total_income': 'count',\n",
    "                     'debt': [sum, 'mean']},  \n",
    "                 fill_value=0)\n",
    "    .round(3)\n",
    "    .rename(columns={'count' : 'client', 'sum' : 'debtors', 'mean' : 'ratio'})\n",
    ")"
   ]
  },
  {
   "cell_type": "markdown",
   "id": "1a602598",
   "metadata": {},
   "source": [
    "Полученные значения очень похожи. Проверим размер каждой группы чтобы понимать, насколько корректно их сравнивать:"
   ]
  },
  {
   "cell_type": "code",
   "execution_count": 36,
   "id": "ac0d432c",
   "metadata": {},
   "outputs": [
    {
     "data": {
      "text/html": [
       "<div>\n",
       "<style scoped>\n",
       "    .dataframe tbody tr th:only-of-type {\n",
       "        vertical-align: middle;\n",
       "    }\n",
       "\n",
       "    .dataframe tbody tr th {\n",
       "        vertical-align: top;\n",
       "    }\n",
       "\n",
       "    .dataframe thead th {\n",
       "        text-align: right;\n",
       "    }\n",
       "</style>\n",
       "<table border=\"1\" class=\"dataframe\">\n",
       "  <thead>\n",
       "    <tr style=\"text-align: right;\">\n",
       "      <th></th>\n",
       "      <th>total_income</th>\n",
       "      <th>share</th>\n",
       "    </tr>\n",
       "    <tr>\n",
       "      <th>purpose_category</th>\n",
       "      <th></th>\n",
       "      <th></th>\n",
       "    </tr>\n",
       "  </thead>\n",
       "  <tbody>\n",
       "    <tr>\n",
       "      <th>операции с автомобилем</th>\n",
       "      <td>4279</td>\n",
       "      <td>20.06</td>\n",
       "    </tr>\n",
       "    <tr>\n",
       "      <th>операции с недвижимостью</th>\n",
       "      <td>10751</td>\n",
       "      <td>50.40</td>\n",
       "    </tr>\n",
       "    <tr>\n",
       "      <th>получение образования</th>\n",
       "      <td>3988</td>\n",
       "      <td>18.70</td>\n",
       "    </tr>\n",
       "    <tr>\n",
       "      <th>проведение свадьбы</th>\n",
       "      <td>2313</td>\n",
       "      <td>10.84</td>\n",
       "    </tr>\n",
       "  </tbody>\n",
       "</table>\n",
       "</div>"
      ],
      "text/plain": [
       "                          total_income  share\n",
       "purpose_category                             \n",
       "операции с автомобилем            4279  20.06\n",
       "операции с недвижимостью         10751  50.40\n",
       "получение образования             3988  18.70\n",
       "проведение свадьбы                2313  10.84"
      ]
     },
     "execution_count": 36,
     "metadata": {},
     "output_type": "execute_result"
    }
   ],
   "source": [
    "# найдем количество заемщиков в каждой группе:\n",
    "share_of_all = data.groupby('purpose_category').agg({'total_income' : 'count'})\n",
    "\n",
    "# посчитаем долю заемщиков каждой группы от всех заемщиков:\n",
    "share_of_all.assign(share = (share_of_all['total_income'] / all_people) * 100).round(2)"
   ]
  },
  {
   "cell_type": "markdown",
   "id": "214c0f8b",
   "metadata": {},
   "source": [
    "Чаще всего (в 50% случаев) кредит берется для операции с недвижимостью, реже всего - на проведение свадьбы (11%).\n",
    "\n",
    "Размеры выборок каждой группы достаточно крупные (минимальная равна 11%, 2313 человек), чтобы их можно было сравнивать и по сравнению делать выводы."
   ]
  },
  {
   "cell_type": "markdown",
   "id": "01536830",
   "metadata": {},
   "source": [
    "---\n",
    "**Вывод:** Меньше всего просречек по кредитам у группы, берущая в долг на операции с недвижимостью. На втором месте с очень небольшой разницей оказались те, кто берет кредит на проведение свадьбы. И больше всего просрочек у двух групп, которые брали в долг на операцию с автмобилем и получение образования. \n",
    "\n",
    "Такая картина может объясняться тем, что кредиты на свадьбы обычно составляют относительно небольшие суммы, а на недвижимость - наоборот, но на более длительный срок, что отражается небольшой финансовой нагрузкой на кредитора. В то же время кредиты на авто обычно составляют большие суммы, но на меньший срок, нежели у недвижимости, а кредит на учебу берут люди, которые, как правило, не имеют должного образования, либо недовольны своей зарплатой, либо и того и другого и, соответственно, кредиты создают на заемщиков повышенную финансовую нагрузку, что сказывается на выплачиваемости долгов в срок.\n",
    "___"
   ]
  },
  {
   "cell_type": "markdown",
   "id": "376c9934",
   "metadata": {},
   "source": [
    "<a class=\"anchor\" id=\"why_skip\"></a>\n",
    "#### 3.5. Приведите возможные причины появления пропусков в исходных данных."
   ]
  },
  {
   "cell_type": "markdown",
   "id": "49720a5d",
   "metadata": {},
   "source": [
    "*Ответ:* Пропуски нам встретились в двух колонках: в `days_employed` и в `total_income`. Ранее,\n",
    "в [небольшом отступлении](#section_id), мы определили, что пропуски по обеим колонкам принадлежат одним и тем же записям. Учитывая, что клиент не может не указать свой доход при оформлении кредита, а характер пропусков в данних количественных переменных носит полностью случайный характер, можно предположить, что возможными причинами возникновения проблемы могли быть технические проблемы: ошибки при сборе информации или выгрузке данных с сервера.\n",
    "\n",
    "Также, в колонке `days_employed` содержались отрицательные значения. Это может быть связано с форматом хранения данных и в принципе расчета дней (например если за точку отсчета берется настоящая дата, а количество дней рассчитывается как разность между сегодняшним днем и датой устройства на работу)."
   ]
  },
  {
   "cell_type": "markdown",
   "id": "64347549",
   "metadata": {},
   "source": [
    "<a class=\"anchor\" id=\"why_median\"></a>\n",
    "#### 3.6. Объясните, почему заполнить пропуски медианным значением — лучшее решение для количественных переменных."
   ]
  },
  {
   "cell_type": "markdown",
   "id": "11e2bffb",
   "metadata": {},
   "source": [
    "*Ответ:* Пропуски в количественных переменных обычно заполняют характерными значениями: средним арифметическим или медианой. В данных могут быть выдающиеся значения, которые сместят среднее в большую или меньшую сторону."
   ]
  },
  {
   "cell_type": "markdown",
   "id": "ea6f493a",
   "metadata": {},
   "source": [
    "<a class=\"anchor\" id=\"conclusion\"></a>\n",
    "### 4. Общий вывод"
   ]
  },
  {
   "cell_type": "markdown",
   "id": "fb038729",
   "metadata": {},
   "source": [
    "- При исследовании надежности заемщиков былы изучены полученные данные, обработаны пропуски и дубликаты, удалены аномальные значения. \n",
    "- Следует обратиться к разработчикам, которые выгружают данные и уведомить их, что существует проблема связанная с пропусками в данных и отрицательными значениями.\n",
    "- Сообщить банку, что необходимо обратить внимание дубликатам в записях и продумать вопрос категоризации данных (например цели кредита и количества детей), чтобы облегчить в дальнейшем их обработку.\n",
    "- Было выявлено:\n",
    "    - что многодетным семьям труднее выплачивать кредит (процент должников 9,2% с одним ребенком в семье и 9,5% с двумя соотетственно), нежели бездетным (7,5%); \n",
    "    - люди, состоящие в официальном браке (вдовцы/вдовы, люди в разводе либо женатые/замужние), более ответствено относятся к выплате кредита - процент должников составляет до 7,1%, нежели более свободные заемщики (не женатые/не замужние или состоящие в гражданском браке) - процент должноков которых составляет до 9,8%; \n",
    "    - чем выше доход - тем выше возвратность: у категорий людей с доходами 50001–200000р процент должников составляет 8,5%, у категории с доходами 200001–1000000р. - 7,1%; \n",
    "    - Меньше всего просречек по кредитам у группы, берущая в долг на операции с недвижимостью - процент должников 7,3%. На втором месте с очень небольшой разницей оказались те, кто берет кредит на проведение свадьбы - 7,9%. И больше всего просрочек у двух групп, которые брали в долг на операцию с автмобилем и получение образования - 9,3%.\n",
    "\n",
    "Даные инсайты и замечания помогут более качественно принимать решения при выдаче кредитов и повысить качество и скорость дальнейших или повторных исследований."
   ]
  },
  {
   "cell_type": "markdown",
   "id": "612fcb03",
   "metadata": {},
   "source": [
    "<a class=\"anchor\" id=\"portret\"></a>\n",
    "**Портрет идеального клиента:** без детей, в официальном браке с суммарный доходом выше 200000р, берущий кредит на жилье или свадьбу.\n",
    "\n",
    "[К содержанию](#toc)"
   ]
  }
 ],
 "metadata": {
  "kernelspec": {
   "display_name": "Python 3 (ipykernel)",
   "language": "python",
   "name": "python3"
  },
  "language_info": {
   "codemirror_mode": {
    "name": "ipython",
    "version": 3
   },
   "file_extension": ".py",
   "mimetype": "text/x-python",
   "name": "python",
   "nbconvert_exporter": "python",
   "pygments_lexer": "ipython3",
   "version": "3.9.15"
  }
 },
 "nbformat": 4,
 "nbformat_minor": 5
}
